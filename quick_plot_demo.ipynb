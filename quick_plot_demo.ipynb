{
 "cells": [
  {
   "cell_type": "code",
   "execution_count": null,
   "metadata": {},
   "outputs": [],
   "source": [
    "import pandas as pd\n",
    "import numpy as np\n",
    "import matplotlib.pyplot as plt\n",
    "import pywt as pw\n",
    "import wavelet_filter as filter\n",
    "from ecg_gudb_database import GUDb\n",
    "from qrs_detection import QRS_detection as detect\n",
    "from hrv import HRV"
   ]
  },
  {
   "cell_type": "code",
   "execution_count": null,
   "metadata": {},
   "outputs": [],
   "source": [
    "data = pd.read_excel(\"data.xlsx\", sheet_name=\"0-sitting\",\n",
    "                     header=0, usecols=\"B:F\")\n",
    "data = data[0]\n",
    "data = (data - min(data)) / (max(data) - min(data))\n",
    "ecg = data.T.values.tolist()"
   ]
  },
  {
   "cell_type": "code",
   "execution_count": null,
   "metadata": {},
   "outputs": [],
   "source": [
    "\n",
    "sample_rate = GUDb.fs\n",
    "t = np.arange(len(ecg)) / float(sample_rate)\n",
    "filtered = filter.wavelet_filtering(data)\n",
    "plt.xlabel('Time')\n",
    "plt.ylabel('ECG Signal')\n",
    "plt.xlim(0, 3)\n",
    "plt.plot(t, filtered)"
   ]
  },
  {
   "cell_type": "code",
   "execution_count": null,
   "metadata": {},
   "outputs": [],
   "source": [
    "plt.xlabel('Time')\n",
    "plt.ylabel('ECG Signal')\n",
    "ecg = np.array(ecg)\n",
    "t = np.arange(len(ecg)) / float(250)\n",
    "ecg = (ecg - min(ecg)) / (max(ecg) - min(ecg))\n",
    "plt.xlim(0, 3)\n",
    "plt.plot(t, ecg)"
   ]
  },
  {
   "cell_type": "code",
   "execution_count": null,
   "metadata": {},
   "outputs": [],
   "source": [
    "data += np.random.normal(0, 0.05, (data.shape))\n",
    "t = np.arange(len(data)) / float(250)\n",
    "plt.xlim(0, 3)\n",
    "plt.plot(t, data)"
   ]
  },
  {
   "cell_type": "code",
   "execution_count": null,
   "metadata": {},
   "outputs": [],
   "source": [
    "import wavelet_filter as filter\n",
    "from ecg_gudb_database import GUDb\n",
    "sample_rate = GUDb.fs\n",
    "filtered = filter.wavelet_filtering(data)\n",
    "plt.xlabel('Time')\n",
    "plt.ylabel('ECG Signal')\n",
    "plt.xlim(0, 3)\n",
    "plt.plot(t, filtered)"
   ]
  },
  {
   "cell_type": "code",
   "execution_count": null,
   "metadata": {},
   "outputs": [],
   "source": [
    "spot = detect(filtered, GUDb.fs, 160)\n",
    "spot_t = []\n",
    "spot_r = []\n",
    "for i in spot:\n",
    "    spot_t.append(t[i])\n",
    "for i in spot:\n",
    "    spot_r.append(ecg[i])\n",
    "plt.xlim(0, 8)\n",
    "plt.plot(spot_t, spot_r, 'x', color='r')\n",
    "plt.plot(t, filtered)"
   ]
  },
  {
   "cell_type": "code",
   "execution_count": null,
   "metadata": {},
   "outputs": [],
   "source": [
    "pw.swt_max_level(len(ecg))"
   ]
  },
  {
   "cell_type": "code",
   "execution_count": null,
   "metadata": {},
   "outputs": [],
   "source": [
    "(cA4, cD4), (cA3, cD3), (cA2, cD2), (cA1, cD1) = pw.swt(ecg, wavelet=\"haar\", level=4)"
   ]
  },
  {
   "cell_type": "code",
   "execution_count": null,
   "metadata": {},
   "outputs": [],
   "source": [
    "plt.figure(figsize=(6, 7))\n",
    "plt.subplots_adjust(hspace =0.5)\n",
    "plt.subplot(411)\n",
    "plt.xlim(0, 4)\n",
    "plt.title(\"cD4\")\n",
    "plt.plot(t, cD4)\n",
    "\n",
    "plt.subplot(412)\n",
    "plt.xlim(0, 4)\n",
    "plt.title(\"cD3\")\n",
    "plt.plot(t, cD3)\n",
    "\n",
    "plt.subplot(413)\n",
    "plt.xlim(0, 4)\n",
    "plt.title(\"cD2\")\n",
    "plt.plot(t, cD2)\n",
    "\n",
    "plt.subplot(414)\n",
    "plt.xlim(0, 4)\n",
    "plt.title(\"cD1\")\n",
    "plt.plot(t, cD1)\n",
    "\n",
    "plt.suptitle(\"Detail Coefficents Use Haar Wavelet Base\")\n"
   ]
  },
  {
   "cell_type": "code",
   "execution_count": null,
   "metadata": {},
   "outputs": [],
   "source": [
    "avg = np.mean(cD3)\n",
    "std = np.std(cD3)\n",
    "sig_thres = [abs(i) if abs(i) > 2.0*std else 0 for i in cD3-avg]\n",
    "plt.xlim(0, 2)\n",
    "plt.plot(t, sig_thres)"
   ]
  },
  {
   "cell_type": "code",
   "execution_count": null,
   "metadata": {},
   "outputs": [],
   "source": [
    "input = []\n",
    "hrv_class = HRV(250)"
   ]
  },
  {
   "cell_type": "code",
   "execution_count": null,
   "metadata": {},
   "outputs": [],
   "source": [
    "for i in range(20):\n",
    "    data = pd.read_excel(\"data.xlsx\", sheet_name=str(i) + \"-sitting\",\n",
    "                         header=0, usecols=\"B:F\")\n",
    "    data = data[0]\n",
    "    data = (data - min(data)) / (max(data) - min(data))\n",
    "    filtered = filter.wavelet_filtering(data)\n",
    "    spot = detect(filtered, GUDb.fs, 160)\n",
    "    input.append(hrv_class.pNN50(spot))\n",
    "    input.append(hrv_class.RMSSD(spot, normalise=True))\n",
    "    input.append(hrv_class.SDNN(spot, normalise=True))"
   ]
  },
  {
   "cell_type": "code",
   "execution_count": null,
   "metadata": {},
   "outputs": [],
   "source": [
    "f_input = np.array(input).reshape(40, 3)"
   ]
  },
  {
   "cell_type": "code",
   "execution_count": null,
   "metadata": {},
   "outputs": [],
   "source": [
    "f_label = []\n",
    "for i in range(20):\n",
    "    f_label.append([1])\n",
    "for i in range(20):\n",
    "    f_label.append([0])"
   ]
  },
  {
   "cell_type": "code",
   "execution_count": null,
   "metadata": {},
   "outputs": [],
   "source": [
    "f_label = np.array(f_label).reshape(40, 1)\n",
    "f_label"
   ]
  },
  {
   "cell_type": "code",
   "execution_count": null,
   "metadata": {},
   "outputs": [],
   "source": [
    "from bp_neural_network import BPNN\n",
    "bp_instance = BPNN()\n",
    "bp_instance.setup(3, 3, 1)\n",
    "bp_instance.train(f_input, f_label, 20000, 0.2, 0.1)"
   ]
  },
  {
   "cell_type": "code",
   "execution_count": null,
   "metadata": {},
   "outputs": [],
   "source": [
    "result = []\n",
    "for i in f_input:\n",
    "    result.append(1 if(bp_instance.predict(i)[0] > 0.5) else 0)"
   ]
  },
  {
   "cell_type": "code",
   "execution_count": null,
   "metadata": {},
   "outputs": [],
   "source": [
    "sum = 0\n",
    "for i in range(20):\n",
    "    sum += f_label[i][0] ^ result[i]\n",
    "print(sum)"
   ]
  },
  {
   "cell_type": "code",
   "execution_count": null,
   "metadata": {},
   "outputs": [],
   "source": [
    "test = []\n",
    "data = pd.read_excel(\"data.xlsx\", sheet_name=\"20-sitting\",\n",
    "                     header=0, usecols=\"B:F\")\n",
    "data = data[0]\n",
    "data = (data - min(data)) / (max(data) - min(data))\n",
    "filtered = filter.wavelet_filtering(data)\n",
    "spot = detect(filtered, GUDb.fs, 160)\n",
    "test.append(hrv_class.pNN50(spot))\n",
    "test.append(hrv_class.RMSSD(spot, normalise=True))\n",
    "test.append(hrv_class.SDNN(spot, normalise=True))\n",
    "test.append(hrv_class.fAnalysis(spot))"
   ]
  },
  {
   "cell_type": "code",
   "execution_count": null,
   "metadata": {},
   "outputs": [],
   "source": [
    "sum = 0"
   ]
  },
  {
   "cell_type": "code",
   "execution_count": null,
   "metadata": {},
   "outputs": [],
   "source": [
    "for i in range(5):\n",
    "    test = []\n",
    "    file_no = i + 20\n",
    "    data = pd.read_excel(\"data.xlsx\", sheet_name=str(file_no) + \"-sitting\",\n",
    "                        header=0, usecols=\"B:F\")\n",
    "    data = data[0]\n",
    "    data = (data - min(data)) / (max(data) - min(data))\n",
    "    filtered = filter.wavelet_filtering(data)\n",
    "    spot = detect(filtered, GUDb.fs, 160)\n",
    "    test.append(hrv_class.pNN50(spot))\n",
    "    test.append(hrv_class.RMSSD(spot, normalise=True))\n",
    "    test.append(hrv_class.SDNN(spot, normalise=True))\n",
    "    sum += 0 ^ (1 if (bp_instance.predict(test)[0]) > 0.5 else 0)\n"
   ]
  },
  {
   "cell_type": "code",
   "execution_count": null,
   "metadata": {},
   "outputs": [],
   "source": [
    "print(str((10 - sum) / 10 * 100) + \"%\")"
   ]
  }
 ],
 "metadata": {
  "interpreter": {
   "hash": "b01dc82283dbaca1639840e83e8c2f09ae3980d5c3cdae9d90b1a56226dfb5c2"
  },
  "kernelspec": {
   "display_name": "Python 3.9.7 ('base')",
   "language": "python",
   "name": "python3"
  },
  "language_info": {
   "codemirror_mode": {
    "name": "ipython",
    "version": 3
   },
   "file_extension": ".py",
   "mimetype": "text/x-python",
   "name": "python",
   "nbconvert_exporter": "python",
   "pygments_lexer": "ipython3",
   "version": "3.9.7"
  },
  "orig_nbformat": 4
 },
 "nbformat": 4,
 "nbformat_minor": 2
}
